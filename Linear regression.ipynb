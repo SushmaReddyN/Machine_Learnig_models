{
  "cells": [
    {
      "cell_type": "markdown",
      "metadata": {
        "id": "xGXnFBMHQ18o"
      },
      "source": [
        "1. Install Extensions"
      ]
    },
    {
      "cell_type": "code",
      "execution_count": 12,
      "metadata": {
        "colab": {
          "base_uri": "https://localhost:8080/"
        },
        "id": "aDlrhbtuPTwl",
        "outputId": "9edd4561-2f61-4230-8305-c450ad9fa4de"
      },
      "outputs": [
        {
          "output_type": "stream",
          "name": "stdout",
          "text": [
            "Requirement already satisfied: kaggle in /usr/local/lib/python3.11/dist-packages (1.6.17)\n",
            "Requirement already satisfied: six>=1.10 in /usr/local/lib/python3.11/dist-packages (from kaggle) (1.17.0)\n",
            "Requirement already satisfied: certifi>=2023.7.22 in /usr/local/lib/python3.11/dist-packages (from kaggle) (2025.1.31)\n",
            "Requirement already satisfied: python-dateutil in /usr/local/lib/python3.11/dist-packages (from kaggle) (2.8.2)\n",
            "Requirement already satisfied: requests in /usr/local/lib/python3.11/dist-packages (from kaggle) (2.32.3)\n",
            "Requirement already satisfied: tqdm in /usr/local/lib/python3.11/dist-packages (from kaggle) (4.67.1)\n",
            "Requirement already satisfied: python-slugify in /usr/local/lib/python3.11/dist-packages (from kaggle) (8.0.4)\n",
            "Requirement already satisfied: urllib3 in /usr/local/lib/python3.11/dist-packages (from kaggle) (2.3.0)\n",
            "Requirement already satisfied: bleach in /usr/local/lib/python3.11/dist-packages (from kaggle) (6.2.0)\n",
            "Requirement already satisfied: webencodings in /usr/local/lib/python3.11/dist-packages (from bleach->kaggle) (0.5.1)\n",
            "Requirement already satisfied: text-unidecode>=1.3 in /usr/local/lib/python3.11/dist-packages (from python-slugify->kaggle) (1.3)\n",
            "Requirement already satisfied: charset-normalizer<4,>=2 in /usr/local/lib/python3.11/dist-packages (from requests->kaggle) (3.4.1)\n",
            "Requirement already satisfied: idna<4,>=2.5 in /usr/local/lib/python3.11/dist-packages (from requests->kaggle) (3.10)\n"
          ]
        }
      ],
      "source": [
        "!pip install kaggle\n",
        "\n"
      ]
    },
    {
      "cell_type": "code",
      "execution_count": 13,
      "metadata": {
        "colab": {
          "base_uri": "https://localhost:8080/"
        },
        "id": "6oPHnM3GO-26",
        "outputId": "5663d8fd-fa98-4b0d-910e-11291fc74d42"
      },
      "outputs": [
        {
          "output_type": "stream",
          "name": "stdout",
          "text": [
            "Requirement already satisfied: pandas in /usr/local/lib/python3.11/dist-packages (2.2.2)\n",
            "Requirement already satisfied: numpy in /usr/local/lib/python3.11/dist-packages (1.26.4)\n",
            "Requirement already satisfied: scikit-learn in /usr/local/lib/python3.11/dist-packages (1.6.1)\n",
            "Requirement already satisfied: matplotlib in /usr/local/lib/python3.11/dist-packages (3.10.0)\n",
            "Requirement already satisfied: seaborn in /usr/local/lib/python3.11/dist-packages (0.13.2)\n",
            "Requirement already satisfied: python-dateutil>=2.8.2 in /usr/local/lib/python3.11/dist-packages (from pandas) (2.8.2)\n",
            "Requirement already satisfied: pytz>=2020.1 in /usr/local/lib/python3.11/dist-packages (from pandas) (2025.1)\n",
            "Requirement already satisfied: tzdata>=2022.7 in /usr/local/lib/python3.11/dist-packages (from pandas) (2025.1)\n",
            "Requirement already satisfied: scipy>=1.6.0 in /usr/local/lib/python3.11/dist-packages (from scikit-learn) (1.14.1)\n",
            "Requirement already satisfied: joblib>=1.2.0 in /usr/local/lib/python3.11/dist-packages (from scikit-learn) (1.4.2)\n",
            "Requirement already satisfied: threadpoolctl>=3.1.0 in /usr/local/lib/python3.11/dist-packages (from scikit-learn) (3.5.0)\n",
            "Requirement already satisfied: contourpy>=1.0.1 in /usr/local/lib/python3.11/dist-packages (from matplotlib) (1.3.1)\n",
            "Requirement already satisfied: cycler>=0.10 in /usr/local/lib/python3.11/dist-packages (from matplotlib) (0.12.1)\n",
            "Requirement already satisfied: fonttools>=4.22.0 in /usr/local/lib/python3.11/dist-packages (from matplotlib) (4.56.0)\n",
            "Requirement already satisfied: kiwisolver>=1.3.1 in /usr/local/lib/python3.11/dist-packages (from matplotlib) (1.4.8)\n",
            "Requirement already satisfied: packaging>=20.0 in /usr/local/lib/python3.11/dist-packages (from matplotlib) (24.2)\n",
            "Requirement already satisfied: pillow>=8 in /usr/local/lib/python3.11/dist-packages (from matplotlib) (11.1.0)\n",
            "Requirement already satisfied: pyparsing>=2.3.1 in /usr/local/lib/python3.11/dist-packages (from matplotlib) (3.2.1)\n",
            "Requirement already satisfied: six>=1.5 in /usr/local/lib/python3.11/dist-packages (from python-dateutil>=2.8.2->pandas) (1.17.0)\n"
          ]
        }
      ],
      "source": [
        "!pip install pandas numpy scikit-learn matplotlib seaborn\n"
      ]
    },
    {
      "cell_type": "markdown",
      "metadata": {
        "id": "WXD4iFqDRJG8"
      },
      "source": [
        "2. Dataset"
      ]
    },
    {
      "cell_type": "code",
      "execution_count": 5,
      "metadata": {
        "colab": {
          "base_uri": "https://localhost:8080/"
        },
        "id": "ZZ8FrzHnP95c",
        "outputId": "9addc190-7fc8-407e-a1cb-ed8004a0622b"
      },
      "outputs": [
        {
          "output_type": "stream",
          "name": "stdout",
          "text": [
            "Mounted at /content/drive\n"
          ]
        }
      ],
      "source": [
        "from google.colab import drive\n",
        "drive.mount('/content/drive')"
      ]
    },
    {
      "cell_type": "code",
      "execution_count": 6,
      "metadata": {
        "id": "ypogh2erP3o9"
      },
      "outputs": [],
      "source": [
        "!mkdir -p ~/.kaggle\n"
      ]
    },
    {
      "cell_type": "code",
      "execution_count": 7,
      "metadata": {
        "id": "HdtF4yhNQOMf"
      },
      "outputs": [],
      "source": [
        "! cp /content/sample_data/kaggle.json ~/.kaggle/"
      ]
    },
    {
      "cell_type": "code",
      "execution_count": 9,
      "metadata": {
        "id": "RhLPrwp0QS2V"
      },
      "outputs": [],
      "source": [
        "! chmod 600 ~/.kaggle/kaggle.json"
      ]
    },
    {
      "cell_type": "code",
      "execution_count": 10,
      "metadata": {
        "colab": {
          "base_uri": "https://localhost:8080/"
        },
        "id": "r_mvQTH8QVIf",
        "outputId": "02336b81-0a6d-4fa8-b614-09122d2eab91"
      },
      "outputs": [
        {
          "output_type": "stream",
          "name": "stdout",
          "text": [
            "Warning: Looks like you're using an outdated API Version, please consider updating (server 1.7.4.2 / client 1.6.17)\n",
            "ref                                                                    title                                                size  lastUpdated          downloadCount  voteCount  usabilityRating  \n",
            "---------------------------------------------------------------------  --------------------------------------------------  -----  -------------------  -------------  ---------  ---------------  \n",
            "atharvasoundankar/chocolate-sales                                      Chocolate Sales Data 📊🍫                              63KB  2025-03-07 05:44:03           5456         76  1.0              \n",
            "abdulmalik1518/mobiles-dataset-2025                                    Mobiles Dataset (2025)                               20KB  2025-02-18 06:50:24          12359        220  1.0              \n",
            "atharvasoundankar/global-music-streaming-trends-and-listener-insights  Global Music Streaming Trends & Listener Insights    95KB  2025-03-09 05:12:00           1000         23  1.0              \n",
            "salahuddinahmedshuvo/ecommerce-consumer-behavior-analysis-data         Ecommerce Consumer Behavior Analysis Data            43KB  2025-03-03 13:09:09           2806         46  0.9411765        \n",
            "mahmoudelhemaly/students-grading-dataset                               Student Performance & Behavior Dataset              508KB  2025-02-17 17:38:46           8905        146  1.0              \n",
            "aniruddhawankhede/mental-heath-analysis-among-teenagers                Mental_Heath_Analysis_Among_Teenagers               173KB  2025-03-10 12:17:22           1150         23  1.0              \n",
            "atharvasoundankar/viral-social-media-trends-and-engagement-analysis    🚀 Viral Social Media Trends & Engagement Analysis   105KB  2025-03-10 04:51:48           1666         31  1.0              \n",
            "halaturkialotaibi/coffee-bean-sales-dataset                            Coffee Bean Sales Dataset                             9KB  2025-03-05 00:46:14           1674         31  0.9411765        \n",
            "shantanugarg274/lung-cancer-prediction-dataset                         Lung Cancer Prediction Dataset                      127KB  2025-02-23 04:33:41           2052         37  0.9411765        \n",
            "smayanj/netflix-users-database                                         Netflix Users Database                              354KB  2025-03-08 12:08:09           1152         44  1.0              \n",
            "willianoliveiragibin/pixar-films                                       Pixar Films                                           2KB  2025-03-07 22:43:51           1030         25  1.0              \n",
            "atharvasoundankar/big-4-financial-risk-insights-2020-2025              Big 4 Financial Risk  Insights (2020-2025)            3KB  2025-03-07 05:02:58           1036         31  1.0              \n",
            "adilshamim8/student-performance-on-an-entrance-examination             Student Performance on an Entrance Examination        4KB  2025-03-04 00:09:21           1591         37  1.0              \n",
            "mohammedarfathr/smartwatch-health-data-uncleaned                       Smartwatch Health Data (Uncleaned)                  382KB  2025-02-14 16:02:46           1089         22  1.0              \n",
            "anandshaw2001/video-game-sales                                         Video Game Sales                                    381KB  2025-02-23 05:16:04           1572         52  1.0              \n",
            "logiccraftbyhimanshi/e-commerce-analytics-swiggy-zomato-blinkit        E-Commerce Analytics: Swiggy, Zomato, Blinkit         1MB  2025-02-26 16:50:07           1950         30  0.88235295       \n",
            "anandshaw2001/imdb-movies-and-tv-shows                                 IMDb Movies and TV Shows                              2MB  2025-02-22 05:57:52            983         21  1.0              \n",
            "saliltirodkar/ice-cream-sales-analysis-temperature-and-weather         Ice cream sales analysis - temperature and weather   514B  2025-03-13 08:24:03            854         22  0.7647059        \n",
            "yashdogra/ev-bhebic-c                                                  Electric Vehicles                                     7MB  2025-02-14 13:25:59            994         25  1.0              \n",
            "ignacioazua/life-expectancy                                            Life Expectancy                                       3KB  2025-03-04 06:16:35           1606         33  1.0              \n"
          ]
        }
      ],
      "source": [
        "! kaggle datasets list"
      ]
    },
    {
      "cell_type": "code",
      "execution_count": 11,
      "metadata": {
        "colab": {
          "base_uri": "https://localhost:8080/"
        },
        "id": "pFV0rzPiQYQY",
        "outputId": "32291e60-2724-41f8-a706-6942d6b09687"
      },
      "outputs": [
        {
          "output_type": "stream",
          "name": "stdout",
          "text": [
            "Warning: Looks like you're using an outdated API Version, please consider updating (server 1.7.4.2 / client 1.6.17)\n",
            "Dataset URL: https://www.kaggle.com/datasets/iamsouravbanerjee/house-rent-prediction-dataset\n",
            "License(s): other\n",
            "house-rent-prediction-dataset.zip: Skipping, found more recently modified local copy (use --force to force download)\n"
          ]
        }
      ],
      "source": [
        "! kaggle datasets download iamsouravbanerjee/house-rent-prediction-dataset"
      ]
    },
    {
      "cell_type": "code",
      "execution_count": 15,
      "metadata": {
        "colab": {
          "base_uri": "https://localhost:8080/"
        },
        "id": "I3hTsK6qbEqq",
        "outputId": "50ed1ac5-a7a6-4833-c77c-19acff8676ca"
      },
      "outputs": [
        {
          "output_type": "stream",
          "name": "stdout",
          "text": [
            "Archive:  house-rent-prediction-dataset.zip\n",
            "  inflating: Dataset Glossary.txt    \n",
            "  inflating: House_Rent_Dataset.csv  \n"
          ]
        }
      ],
      "source": [
        "! unzip house-rent-prediction-dataset"
      ]
    },
    {
      "cell_type": "markdown",
      "metadata": {
        "id": "ii6MsauYRFeg"
      },
      "source": [
        "3. Program"
      ]
    },
    {
      "cell_type": "code",
      "execution_count": 16,
      "metadata": {
        "id": "453-EKc6PQAA",
        "colab": {
          "base_uri": "https://localhost:8080/",
          "height": 685
        },
        "outputId": "887a812b-42cd-4ecb-e143-02b8977e4830"
      },
      "outputs": [
        {
          "output_type": "stream",
          "name": "stdout",
          "text": [
            "Index(['Posted On', 'BHK', 'Rent', 'Size', 'Floor', 'Area Type',\n",
            "       'Area Locality', 'City', 'Furnishing Status', 'Tenant Preferred',\n",
            "       'Bathroom', 'Point of Contact'],\n",
            "      dtype='object')\n",
            "Mean Absolute Error: 26191.95793986809\n",
            "Mean Squared Error: 2554775777.0452137\n",
            "R² Score: 0.35896327760744784\n"
          ]
        },
        {
          "output_type": "display_data",
          "data": {
            "text/plain": [
              "<Figure size 800x600 with 1 Axes>"
            ],
            "image/png": "[encoded data removed]"
          },
          "metadata": {}
        }
      ],
      "source": [
        "import pandas as pd\n",
        "import numpy as np\n",
        "import matplotlib.pyplot as plt\n",
        "import seaborn as sns\n",
        "from sklearn.model_selection import train_test_split\n",
        "from sklearn.linear_model import LinearRegression\n",
        "from sklearn.metrics import mean_absolute_error, mean_squared_error, r2_score\n",
        "\n",
        "# Load dataset from local path or Colab\n",
        "url = \"/content/House_Rent_Dataset.csv\"  # Ensure this path is correct\n",
        "\n",
        "df = pd.read_csv(url)  # Load the dataset\n",
        "\n",
        "# Display dataset columns to check feature names\n",
        "print(df.columns)\n",
        "\n",
        "# Select relevant features (modify based on dataset structure)\n",
        "features = [\"Size\", \"BHK\", \"Bathroom\"]  # Adjust as per actual column names\n",
        "target = \"Rent\"  # Adjust based on actual target column\n",
        "\n",
        "# Drop missing values\n",
        "df = df[features + [target]].dropna()\n",
        "\n",
        "# Split the data\n",
        "X = df[features]\n",
        "y = df[target]\n",
        "X_train, X_test, y_train, y_test = train_test_split(X, y, test_size=0.2, random_state=42)\n",
        "\n",
        "# Train the Linear Regression model\n",
        "model = LinearRegression()\n",
        "model.fit(X_train, y_train)\n",
        "\n",
        "# Make predictions\n",
        "y_pred = model.predict(X_test)\n",
        "\n",
        "# Evaluate the model\n",
        "mae = mean_absolute_error(y_test, y_pred)\n",
        "mse = mean_squared_error(y_test, y_pred)\n",
        "r2 = r2_score(y_test, y_pred)\n",
        "\n",
        "print(f\"Mean Absolute Error: {mae}\")\n",
        "print(f\"Mean Squared Error: {mse}\")\n",
        "print(f\"R² Score: {r2}\")\n",
        "\n",
        "# Visualization\n",
        "plt.figure(figsize=(8, 6))\n",
        "sns.scatterplot(x=y_test, y=y_pred)\n",
        "plt.xlabel(\"Actual Rent Prices\")\n",
        "plt.ylabel(\"Predicted Rent Prices\")\n",
        "plt.title(\"Actual vs. Predicted Rent Prices\")\n",
        "plt.show()\n",
        "\n"
      ]
    }
  ],
  "metadata": {
    "colab": {
      "provenance": []
    },
    "kernelspec": {
      "display_name": "Python 3",
      "name": "python3"
    },
    "language_info": {
      "name": "python"
    }
  },
  "nbformat": 4,
  "nbformat_minor": 0
}